{
 "cells": [
  {
   "cell_type": "markdown",
   "id": "9790b5ea",
   "metadata": {},
   "source": [
    "# Setup"
   ]
  },
  {
   "cell_type": "code",
   "execution_count": 133,
   "id": "c3353ec3",
   "metadata": {},
   "outputs": [],
   "source": [
    "# !pip install \"modin[all]\"\n",
    "# !pip install pandas==1.4.2\n",
    "# !pip install ipyfilechooser\n",
    "# !pip install duckdb==0.3.4\n",
    "# !pip install pyarrow\n",
    "# !pip install swifter\n",
    "from IPython.core.interactiveshell import InteractiveShell\n",
    "InteractiveShell.ast_node_interactivity = \"all\""
   ]
  },
  {
   "cell_type": "markdown",
   "id": "314c85a1",
   "metadata": {},
   "source": [
    "# Import"
   ]
  },
  {
   "cell_type": "code",
   "execution_count": 172,
   "id": "03490190",
   "metadata": {},
   "outputs": [],
   "source": [
    "import modin.pandas as pd\n",
    "import datetime\n",
    "import itertools\n",
    "from ipyfilechooser import FileChooser\n",
    "import duckdb\n",
    "import pyarrow as pa\n",
    "from pyarrow import csv\n",
    "import pyarrow.dataset as ds\n",
    "import swifter"
   ]
  },
  {
   "cell_type": "markdown",
   "id": "c479dc18",
   "metadata": {},
   "source": [
    "# Widgets"
   ]
  },
  {
   "cell_type": "markdown",
   "id": "d28b0d00",
   "metadata": {},
   "source": [
    "## DB"
   ]
  },
  {
   "cell_type": "code",
   "execution_count": null,
   "id": "3ae19530",
   "metadata": {},
   "outputs": [],
   "source": []
  },
  {
   "cell_type": "markdown",
   "id": "22821a91",
   "metadata": {},
   "source": [
    "## CSV"
   ]
  },
  {
   "cell_type": "code",
   "execution_count": 15,
   "id": "78608ad7",
   "metadata": {},
   "outputs": [
    {
     "data": {
      "application/vnd.jupyter.widget-view+json": {
       "model_id": "523ae59fff764cb49457d8417e3cfcf3",
       "version_major": 2,
       "version_minor": 0
      },
      "text/plain": [
       "FileChooser(path='/Users/jujutan/projects/personal/restaurant_status', filename='', title='<b>Upload CSV</b>',…"
      ]
     },
     "metadata": {},
     "output_type": "display_data"
    }
   ],
   "source": [
    "# Create and display a FileChooser widget\n",
    "csv_chooser = FileChooser('.')\n",
    "csv_chooser.title = '<b>Upload CSV</b>'\n",
    "csv_chooser.filter_pattern = \"*.csv\"\n",
    "display(csv_chooser)"
   ]
  },
  {
   "cell_type": "code",
   "execution_count": 18,
   "id": "9823c509",
   "metadata": {},
   "outputs": [
    {
     "data": {
      "application/vnd.jupyter.widget-view+json": {
       "model_id": "c4ec409f493146518dc2a433c44fb448",
       "version_major": 2,
       "version_minor": 0
      },
      "text/plain": [
       "FileChooser(path='/Users/jujutan/projects/personal/restaurant_status', filename='', title='<b>Upload DB (optio…"
      ]
     },
     "metadata": {},
     "output_type": "display_data"
    }
   ],
   "source": [
    "# Create and display a FileChooser widget\n",
    "db_chooser = FileChooser('.')\n",
    "db_chooser.title = '<b>Upload DB (optional)</b>'\n",
    "db_chooser.filter_pattern = \"*.csv\"\n",
    "display(db_chooser)"
   ]
  },
  {
   "cell_type": "markdown",
   "id": "6d33f531",
   "metadata": {},
   "source": [
    "# Input Resolution"
   ]
  },
  {
   "cell_type": "code",
   "execution_count": 34,
   "id": "c3bc3a4a",
   "metadata": {},
   "outputs": [],
   "source": [
    "input_file_path = csv_chooser.selected\n",
    "db_file_path = db_chooser.selected or 'duck.db'\n",
    "db_conn = duckdb.connect(db_file_path)\n",
    "read_options = csv.ReadOptions(\n",
    "               column_names=[\"dining_place_name\", \"opening_time\"],\n",
    "               skip_rows=1)\n",
    "input_csv = csv.read_csv(input_file_path, read_options)\n",
    "df = input_csv.to_pandas()"
   ]
  },
  {
   "cell_type": "code",
   "execution_count": 38,
   "id": "a41476e3",
   "metadata": {},
   "outputs": [
    {
     "data": {
      "text/html": [
       "<div>\n",
       "<style scoped>\n",
       "    .dataframe tbody tr th:only-of-type {\n",
       "        vertical-align: middle;\n",
       "    }\n",
       "\n",
       "    .dataframe tbody tr th {\n",
       "        vertical-align: top;\n",
       "    }\n",
       "\n",
       "    .dataframe thead th {\n",
       "        text-align: right;\n",
       "    }\n",
       "</style>\n",
       "<table border=\"1\" class=\"dataframe\">\n",
       "  <thead>\n",
       "    <tr style=\"text-align: right;\">\n",
       "      <th></th>\n",
       "      <th>dining_place_name</th>\n",
       "      <th>opening_time</th>\n",
       "    </tr>\n",
       "  </thead>\n",
       "  <tbody>\n",
       "    <tr>\n",
       "      <th>0</th>\n",
       "      <td>Osakaya Restaurant</td>\n",
       "      <td>Mon-Thu, Sun 11:30 am - 9 pm  / Fri-Sat 11:30 ...</td>\n",
       "    </tr>\n",
       "    <tr>\n",
       "      <th>1</th>\n",
       "      <td>The Stinking Rose</td>\n",
       "      <td>Mon-Thu, Sun 11:30 am - 10 pm  / Fri-Sat 11:30...</td>\n",
       "    </tr>\n",
       "    <tr>\n",
       "      <th>2</th>\n",
       "      <td>McCormick &amp; Kuleto's</td>\n",
       "      <td>Mon-Thu, Sun 11:30 am - 10 pm  / Fri-Sat 11:30...</td>\n",
       "    </tr>\n",
       "    <tr>\n",
       "      <th>3</th>\n",
       "      <td>Mifune Restaurant</td>\n",
       "      <td>Mon-Sun 11 am - 10 pm</td>\n",
       "    </tr>\n",
       "    <tr>\n",
       "      <th>4</th>\n",
       "      <td>The Cheesecake Factory</td>\n",
       "      <td>Mon-Thu 11 am - 11 pm  / Fri-Sat 11 am - 12:30...</td>\n",
       "    </tr>\n",
       "  </tbody>\n",
       "</table>\n",
       "</div>"
      ],
      "text/plain": [
       "        dining_place_name                                       opening_time\n",
       "0      Osakaya Restaurant  Mon-Thu, Sun 11:30 am - 9 pm  / Fri-Sat 11:30 ...\n",
       "1       The Stinking Rose  Mon-Thu, Sun 11:30 am - 10 pm  / Fri-Sat 11:30...\n",
       "2    McCormick & Kuleto's  Mon-Thu, Sun 11:30 am - 10 pm  / Fri-Sat 11:30...\n",
       "3       Mifune Restaurant                              Mon-Sun 11 am - 10 pm\n",
       "4  The Cheesecake Factory  Mon-Thu 11 am - 11 pm  / Fri-Sat 11 am - 12:30..."
      ]
     },
     "execution_count": 38,
     "metadata": {},
     "output_type": "execute_result"
    }
   ],
   "source": [
    "df.head()"
   ]
  },
  {
   "cell_type": "markdown",
   "id": "dd8c8132",
   "metadata": {},
   "source": [
    "# Functions"
   ]
  },
  {
   "cell_type": "code",
   "execution_count": 229,
   "id": "7125e350",
   "metadata": {},
   "outputs": [],
   "source": [
    "dow_map = ['mon', 'tue', 'wed', 'thu', 'fri', 'sat', 'sun']\n",
    "\n",
    "def parse_timing(timing):\n",
    "    if (not timing):\n",
    "        return \"\"\n",
    "    time = timing.strip().split('-')\n",
    "    parsed_timing = []\n",
    "    for t in time:\n",
    "        parsed_time = t.strip().split(' ')\n",
    "        unit_time = parsed_time[0]\n",
    "        hour = unit_time.split(\":\")[0]\n",
    "        minute = \"00\"\n",
    "        if (\":\" in unit_time):\n",
    "            minute = unit_time.split(\":\")[-1]\n",
    "        hasPM = len(parsed_time) > 1 and (\"pm\" in parsed_time[1] or \"PM\" in parsed_time[1])\n",
    "        if (hasPM):\n",
    "            hour = str(int(hour) + 12)\n",
    "        operating_timing = hour.zfill(2) + minute if hour else ''\n",
    "        parsed_timing.append(operating_timing)\n",
    "    return '-'.join(parsed_timing)\n",
    "            \n",
    "\n",
    "def process_section(section, opening_time):\n",
    "    operating_time = section[-1].strip().split(\" \", 1)[-1]\n",
    "    # print(\"Time\", operating_time)\n",
    "    for i in section:\n",
    "        days = i.strip().split(\" \")[0].split(\"-\")\n",
    "        # print(days)\n",
    "        if (len(days) > 1) and operating_time:\n",
    "            start_idx = dow_map.index(days[0].lower())\n",
    "            end_idx = dow_map.index(days[-1].lower()) + 1\n",
    "            opening_time[start_idx:end_idx] = [operating_time] * (end_idx - start_idx)\n",
    "        elif operating_time:\n",
    "            opening_time[dow_map.index(days[0].lower())] = operating_time\n",
    "    return opening_time\n",
    "    \n",
    "    \n",
    "def parse_time(row):\n",
    "    # print(\"Row\", row)\n",
    "    operating_time = [''] * 7\n",
    "    blocks = row.strip().split(\"/\")\n",
    "    sections = list(itertools.chain(*[x.strip().split(\",\") for x in blocks]))\n",
    "    sections = [process_section(x.strip().split(\",\"), operating_time) for x in blocks]\n",
    "    return sections[-1]"
   ]
  },
  {
   "cell_type": "code",
   "execution_count": 230,
   "id": "1f105b7d",
   "metadata": {},
   "outputs": [],
   "source": [
    "df['parsed_timing'] = df.apply(lambda x: ','.join([parse_timing(i) for i in parse_time(x['opening_time'])]), axis=1)"
   ]
  },
  {
   "cell_type": "code",
   "execution_count": 124,
   "id": "80f1d523",
   "metadata": {},
   "outputs": [
    {
     "data": {
      "text/html": [
       "<div>\n",
       "<style scoped>\n",
       "    .dataframe tbody tr th:only-of-type {\n",
       "        vertical-align: middle;\n",
       "    }\n",
       "\n",
       "    .dataframe tbody tr th {\n",
       "        vertical-align: top;\n",
       "    }\n",
       "\n",
       "    .dataframe thead th {\n",
       "        text-align: right;\n",
       "    }\n",
       "</style>\n",
       "<table border=\"1\" class=\"dataframe\">\n",
       "  <thead>\n",
       "    <tr style=\"text-align: right;\">\n",
       "      <th></th>\n",
       "      <th>dining_place_name</th>\n",
       "      <th>opening_time</th>\n",
       "      <th>parsed_timing</th>\n",
       "    </tr>\n",
       "  </thead>\n",
       "  <tbody>\n",
       "    <tr>\n",
       "      <th>0</th>\n",
       "      <td>Osakaya Restaurant</td>\n",
       "      <td>Mon-Thu, Sun 11:30 am - 9 pm  / Fri-Sat 11:30 ...</td>\n",
       "      <td>1130-2100,1130-2100,1130-2100,1130-2100,1130-2...</td>\n",
       "    </tr>\n",
       "    <tr>\n",
       "      <th>1</th>\n",
       "      <td>The Stinking Rose</td>\n",
       "      <td>Mon-Thu, Sun 11:30 am - 10 pm  / Fri-Sat 11:30...</td>\n",
       "      <td>1130-2200,1130-2200,1130-2200,1130-2200,1130-2...</td>\n",
       "    </tr>\n",
       "    <tr>\n",
       "      <th>2</th>\n",
       "      <td>McCormick &amp; Kuleto's</td>\n",
       "      <td>Mon-Thu, Sun 11:30 am - 10 pm  / Fri-Sat 11:30...</td>\n",
       "      <td>1130-2200,1130-2200,1130-2200,1130-2200,1130-2...</td>\n",
       "    </tr>\n",
       "    <tr>\n",
       "      <th>3</th>\n",
       "      <td>Mifune Restaurant</td>\n",
       "      <td>Mon-Sun 11 am - 10 pm</td>\n",
       "      <td>1100-2200,1100-2200,1100-2200,1100-2200,1100-2...</td>\n",
       "    </tr>\n",
       "    <tr>\n",
       "      <th>4</th>\n",
       "      <td>The Cheesecake Factory</td>\n",
       "      <td>Mon-Thu 11 am - 11 pm  / Fri-Sat 11 am - 12:30...</td>\n",
       "      <td>1100-2300,1100-2300,1100-2300,1100-2300,1100-1...</td>\n",
       "    </tr>\n",
       "    <tr>\n",
       "      <th>5</th>\n",
       "      <td>New Delhi Indian Restaurant</td>\n",
       "      <td>Mon-Sat 11:30 am - 10 pm  / Sun 5:30 pm - 10 pm</td>\n",
       "      <td>1130-2200,1130-2200,1130-2200,1130-2200,1130-2...</td>\n",
       "    </tr>\n",
       "    <tr>\n",
       "      <th>6</th>\n",
       "      <td>Iroha Restaurant</td>\n",
       "      <td>Mon-Thu, Sun 11:30 am - 9:30 pm  / Fri-Sat 11:...</td>\n",
       "      <td>1130-2130,1130-2130,1130-2130,1130-2130,1130-2...</td>\n",
       "    </tr>\n",
       "    <tr>\n",
       "      <th>7</th>\n",
       "      <td>Rose Pistola</td>\n",
       "      <td>Mon-Thu 11:30 am - 10 pm  / Fri-Sun 11:30 am -...</td>\n",
       "      <td>1130-2200,1130-2200,1130-2200,1130-2200,1130-2...</td>\n",
       "    </tr>\n",
       "    <tr>\n",
       "      <th>8</th>\n",
       "      <td>Alioto's Restaurant</td>\n",
       "      <td>Mon-Sun 11 am - 11 pm</td>\n",
       "      <td>1100-2300,1100-2300,1100-2300,1100-2300,1100-2...</td>\n",
       "    </tr>\n",
       "    <tr>\n",
       "      <th>9</th>\n",
       "      <td>Canton Seafood &amp; Dim Sum Restaurant</td>\n",
       "      <td>Mon-Fri 10:30 am - 9:30 pm  / Sat-Sun 10 am - ...</td>\n",
       "      <td>1030-2130,1030-2130,1030-2130,1030-2130,1030-2...</td>\n",
       "    </tr>\n",
       "    <tr>\n",
       "      <th>10</th>\n",
       "      <td>All Season Restaurant</td>\n",
       "      <td>Mon-Fri 10 am - 9:30 pm  / Sat-Sun 9:30 am - 9...</td>\n",
       "      <td>1000-2130,1000-2130,1000-2130,1000-2130,1000-2...</td>\n",
       "    </tr>\n",
       "    <tr>\n",
       "      <th>11</th>\n",
       "      <td>Bombay Indian Restaurant</td>\n",
       "      <td>Mon-Sun 11:30 am - 10:30 pm</td>\n",
       "      <td>1130-2230,1130-2230,1130-2230,1130-2230,1130-2...</td>\n",
       "    </tr>\n",
       "    <tr>\n",
       "      <th>12</th>\n",
       "      <td>Sam's Grill &amp; Seafood Restaurant</td>\n",
       "      <td>Mon-Fri 11 am - 9 pm  / Sat 5 pm - 9 pm</td>\n",
       "      <td>1100-2100,1100-2100,1100-2100,1100-2100,1100-2...</td>\n",
       "    </tr>\n",
       "    <tr>\n",
       "      <th>13</th>\n",
       "      <td>2G Japanese Brasserie</td>\n",
       "      <td>Mon-Thu, Sun 11 am - 10 pm  / Fri-Sat 11 am - ...</td>\n",
       "      <td>1100-2200,1100-2200,1100-2200,1100-2200,1100-2...</td>\n",
       "    </tr>\n",
       "    <tr>\n",
       "      <th>14</th>\n",
       "      <td>Restaurant Lulu</td>\n",
       "      <td>Mon-Thu, Sun 11:30 am - 9 pm  / Fri-Sat 11:30 ...</td>\n",
       "      <td>1130-2100,1130-2100,1130-2100,1130-2100,1130-2...</td>\n",
       "    </tr>\n",
       "    <tr>\n",
       "      <th>15</th>\n",
       "      <td>Sudachi</td>\n",
       "      <td>Mon-Wed 5 pm - 12:30 am  / Thu-Fri 5 pm - 1:30...</td>\n",
       "      <td>1700-1230,1700-1230,1700-1230,1700-0130,1700-0...</td>\n",
       "    </tr>\n",
       "    <tr>\n",
       "      <th>16</th>\n",
       "      <td>Hanuri</td>\n",
       "      <td>Mon-Sun 11 am - 12 am</td>\n",
       "      <td>1100-1200,1100-1200,1100-1200,1100-1200,1100-1...</td>\n",
       "    </tr>\n",
       "    <tr>\n",
       "      <th>17</th>\n",
       "      <td>Herbivore</td>\n",
       "      <td>Mon-Thu, Sun 9 am - 10 pm  / Fri-Sat 9 am - 11 pm</td>\n",
       "      <td>0900-2200,0900-2200,0900-2200,0900-2200,0900-2...</td>\n",
       "    </tr>\n",
       "    <tr>\n",
       "      <th>18</th>\n",
       "      <td>Penang Garden</td>\n",
       "      <td>Mon-Thu 11 am - 10 pm  / Fri-Sat 10 am - 10:30...</td>\n",
       "      <td>1100-2200,1100-2200,1100-2200,1100-2200,1000-2...</td>\n",
       "    </tr>\n",
       "    <tr>\n",
       "      <th>19</th>\n",
       "      <td>John's Grill</td>\n",
       "      <td>Mon-Sat 11 am - 10 pm  / Sun 12 pm - 10 pm</td>\n",
       "      <td>1100-2200,1100-2200,1100-2200,1100-2200,1100-2...</td>\n",
       "    </tr>\n",
       "    <tr>\n",
       "      <th>20</th>\n",
       "      <td>Quan Bac</td>\n",
       "      <td>Mon-Sun 11 am - 10 pm</td>\n",
       "      <td>1100-2200,1100-2200,1100-2200,1100-2200,1100-2...</td>\n",
       "    </tr>\n",
       "    <tr>\n",
       "      <th>21</th>\n",
       "      <td>Bamboo Restaurant</td>\n",
       "      <td>Mon-Sat 11 am - 12 am  / Sun 12 pm - 12 am</td>\n",
       "      <td>1100-1200,1100-1200,1100-1200,1100-1200,1100-1...</td>\n",
       "    </tr>\n",
       "    <tr>\n",
       "      <th>22</th>\n",
       "      <td>Burger Bar</td>\n",
       "      <td>Mon-Thu, Sun 11 am - 10 pm  / Fri-Sat 11 am - ...</td>\n",
       "      <td>1100-2200,1100-2200,1100-2200,1100-2200,1100-1...</td>\n",
       "    </tr>\n",
       "    <tr>\n",
       "      <th>23</th>\n",
       "      <td>Blu Restaurant</td>\n",
       "      <td>Mon-Fri 11:30 am - 10 pm  / Sat-Sun 7 am - 3 pm</td>\n",
       "      <td>1130-2200,1130-2200,1130-2200,1130-2200,1130-2...</td>\n",
       "    </tr>\n",
       "    <tr>\n",
       "      <th>24</th>\n",
       "      <td>Naan 'N' Curry</td>\n",
       "      <td>Mon-Sun 11 am - 4 am</td>\n",
       "      <td>1100-0400,1100-0400,1100-0400,1100-0400,1100-0...</td>\n",
       "    </tr>\n",
       "    <tr>\n",
       "      <th>25</th>\n",
       "      <td>Shanghai China Restaurant</td>\n",
       "      <td>Mon-Sun 11 am - 9:30 pm</td>\n",
       "      <td>1100-2130,1100-2130,1100-2130,1100-2130,1100-2...</td>\n",
       "    </tr>\n",
       "    <tr>\n",
       "      <th>26</th>\n",
       "      <td>Tres</td>\n",
       "      <td>Mon-Thu, Sun 11:30 am - 10 pm  / Fri-Sat 11:30...</td>\n",
       "      <td>1130-2200,1130-2200,1130-2200,1130-2200,1130-2...</td>\n",
       "    </tr>\n",
       "    <tr>\n",
       "      <th>27</th>\n",
       "      <td>Isobune Sushi</td>\n",
       "      <td>Mon-Sun 11:30 am - 9:30 pm</td>\n",
       "      <td>1130-2130,1130-2130,1130-2130,1130-2130,1130-2...</td>\n",
       "    </tr>\n",
       "    <tr>\n",
       "      <th>28</th>\n",
       "      <td>Viva Pizza Restaurant</td>\n",
       "      <td>Mon-Sun 11 am - 12 am</td>\n",
       "      <td>1100-1200,1100-1200,1100-1200,1100-1200,1100-1...</td>\n",
       "    </tr>\n",
       "    <tr>\n",
       "      <th>29</th>\n",
       "      <td>Far East Cafe</td>\n",
       "      <td>Mon-Sun 11:30 am - 10 pm</td>\n",
       "      <td>1130-2200,1130-2200,1130-2200,1130-2200,1130-2...</td>\n",
       "    </tr>\n",
       "    <tr>\n",
       "      <th>30</th>\n",
       "      <td>Parallel 37</td>\n",
       "      <td>Mon-Sun 11:30 am - 10 pm</td>\n",
       "      <td>1130-2200,1130-2200,1130-2200,1130-2200,1130-2...</td>\n",
       "    </tr>\n",
       "    <tr>\n",
       "      <th>31</th>\n",
       "      <td>Bai Thong Thai Cuisine</td>\n",
       "      <td>Mon-Sat 11 am - 11 pm  / Sun 11 am - 10 pm</td>\n",
       "      <td>1100-2300,1100-2300,1100-2300,1100-2300,1100-2...</td>\n",
       "    </tr>\n",
       "    <tr>\n",
       "      <th>32</th>\n",
       "      <td>Alhamra</td>\n",
       "      <td>Mon-Sun 11 am - 11 pm</td>\n",
       "      <td>1100-2300,1100-2300,1100-2300,1100-2300,1100-2...</td>\n",
       "    </tr>\n",
       "  </tbody>\n",
       "</table>\n",
       "</div>"
      ],
      "text/plain": [
       "                      dining_place_name  \\\n",
       "0                    Osakaya Restaurant   \n",
       "1                     The Stinking Rose   \n",
       "2                  McCormick & Kuleto's   \n",
       "3                     Mifune Restaurant   \n",
       "4                The Cheesecake Factory   \n",
       "5           New Delhi Indian Restaurant   \n",
       "6                      Iroha Restaurant   \n",
       "7                          Rose Pistola   \n",
       "8                   Alioto's Restaurant   \n",
       "9   Canton Seafood & Dim Sum Restaurant   \n",
       "10                All Season Restaurant   \n",
       "11             Bombay Indian Restaurant   \n",
       "12     Sam's Grill & Seafood Restaurant   \n",
       "13                2G Japanese Brasserie   \n",
       "14                      Restaurant Lulu   \n",
       "15                              Sudachi   \n",
       "16                               Hanuri   \n",
       "17                            Herbivore   \n",
       "18                        Penang Garden   \n",
       "19                         John's Grill   \n",
       "20                             Quan Bac   \n",
       "21                    Bamboo Restaurant   \n",
       "22                           Burger Bar   \n",
       "23                       Blu Restaurant   \n",
       "24                       Naan 'N' Curry   \n",
       "25            Shanghai China Restaurant   \n",
       "26                                 Tres   \n",
       "27                        Isobune Sushi   \n",
       "28                Viva Pizza Restaurant   \n",
       "29                        Far East Cafe   \n",
       "30                          Parallel 37   \n",
       "31               Bai Thong Thai Cuisine   \n",
       "32                              Alhamra   \n",
       "\n",
       "                                         opening_time  \\\n",
       "0   Mon-Thu, Sun 11:30 am - 9 pm  / Fri-Sat 11:30 ...   \n",
       "1   Mon-Thu, Sun 11:30 am - 10 pm  / Fri-Sat 11:30...   \n",
       "2   Mon-Thu, Sun 11:30 am - 10 pm  / Fri-Sat 11:30...   \n",
       "3                               Mon-Sun 11 am - 10 pm   \n",
       "4   Mon-Thu 11 am - 11 pm  / Fri-Sat 11 am - 12:30...   \n",
       "5     Mon-Sat 11:30 am - 10 pm  / Sun 5:30 pm - 10 pm   \n",
       "6   Mon-Thu, Sun 11:30 am - 9:30 pm  / Fri-Sat 11:...   \n",
       "7   Mon-Thu 11:30 am - 10 pm  / Fri-Sun 11:30 am -...   \n",
       "8                               Mon-Sun 11 am - 11 pm   \n",
       "9   Mon-Fri 10:30 am - 9:30 pm  / Sat-Sun 10 am - ...   \n",
       "10  Mon-Fri 10 am - 9:30 pm  / Sat-Sun 9:30 am - 9...   \n",
       "11                        Mon-Sun 11:30 am - 10:30 pm   \n",
       "12            Mon-Fri 11 am - 9 pm  / Sat 5 pm - 9 pm   \n",
       "13  Mon-Thu, Sun 11 am - 10 pm  / Fri-Sat 11 am - ...   \n",
       "14  Mon-Thu, Sun 11:30 am - 9 pm  / Fri-Sat 11:30 ...   \n",
       "15  Mon-Wed 5 pm - 12:30 am  / Thu-Fri 5 pm - 1:30...   \n",
       "16                              Mon-Sun 11 am - 12 am   \n",
       "17  Mon-Thu, Sun 9 am - 10 pm  / Fri-Sat 9 am - 11 pm   \n",
       "18  Mon-Thu 11 am - 10 pm  / Fri-Sat 10 am - 10:30...   \n",
       "19         Mon-Sat 11 am - 10 pm  / Sun 12 pm - 10 pm   \n",
       "20                              Mon-Sun 11 am - 10 pm   \n",
       "21         Mon-Sat 11 am - 12 am  / Sun 12 pm - 12 am   \n",
       "22  Mon-Thu, Sun 11 am - 10 pm  / Fri-Sat 11 am - ...   \n",
       "23    Mon-Fri 11:30 am - 10 pm  / Sat-Sun 7 am - 3 pm   \n",
       "24                               Mon-Sun 11 am - 4 am   \n",
       "25                            Mon-Sun 11 am - 9:30 pm   \n",
       "26  Mon-Thu, Sun 11:30 am - 10 pm  / Fri-Sat 11:30...   \n",
       "27                         Mon-Sun 11:30 am - 9:30 pm   \n",
       "28                              Mon-Sun 11 am - 12 am   \n",
       "29                           Mon-Sun 11:30 am - 10 pm   \n",
       "30                           Mon-Sun 11:30 am - 10 pm   \n",
       "31         Mon-Sat 11 am - 11 pm  / Sun 11 am - 10 pm   \n",
       "32                              Mon-Sun 11 am - 11 pm   \n",
       "\n",
       "                                        parsed_timing  \n",
       "0   1130-2100,1130-2100,1130-2100,1130-2100,1130-2...  \n",
       "1   1130-2200,1130-2200,1130-2200,1130-2200,1130-2...  \n",
       "2   1130-2200,1130-2200,1130-2200,1130-2200,1130-2...  \n",
       "3   1100-2200,1100-2200,1100-2200,1100-2200,1100-2...  \n",
       "4   1100-2300,1100-2300,1100-2300,1100-2300,1100-1...  \n",
       "5   1130-2200,1130-2200,1130-2200,1130-2200,1130-2...  \n",
       "6   1130-2130,1130-2130,1130-2130,1130-2130,1130-2...  \n",
       "7   1130-2200,1130-2200,1130-2200,1130-2200,1130-2...  \n",
       "8   1100-2300,1100-2300,1100-2300,1100-2300,1100-2...  \n",
       "9   1030-2130,1030-2130,1030-2130,1030-2130,1030-2...  \n",
       "10  1000-2130,1000-2130,1000-2130,1000-2130,1000-2...  \n",
       "11  1130-2230,1130-2230,1130-2230,1130-2230,1130-2...  \n",
       "12  1100-2100,1100-2100,1100-2100,1100-2100,1100-2...  \n",
       "13  1100-2200,1100-2200,1100-2200,1100-2200,1100-2...  \n",
       "14  1130-2100,1130-2100,1130-2100,1130-2100,1130-2...  \n",
       "15  1700-1230,1700-1230,1700-1230,1700-0130,1700-0...  \n",
       "16  1100-1200,1100-1200,1100-1200,1100-1200,1100-1...  \n",
       "17  0900-2200,0900-2200,0900-2200,0900-2200,0900-2...  \n",
       "18  1100-2200,1100-2200,1100-2200,1100-2200,1000-2...  \n",
       "19  1100-2200,1100-2200,1100-2200,1100-2200,1100-2...  \n",
       "20  1100-2200,1100-2200,1100-2200,1100-2200,1100-2...  \n",
       "21  1100-1200,1100-1200,1100-1200,1100-1200,1100-1...  \n",
       "22  1100-2200,1100-2200,1100-2200,1100-2200,1100-1...  \n",
       "23  1130-2200,1130-2200,1130-2200,1130-2200,1130-2...  \n",
       "24  1100-0400,1100-0400,1100-0400,1100-0400,1100-0...  \n",
       "25  1100-2130,1100-2130,1100-2130,1100-2130,1100-2...  \n",
       "26  1130-2200,1130-2200,1130-2200,1130-2200,1130-2...  \n",
       "27  1130-2130,1130-2130,1130-2130,1130-2130,1130-2...  \n",
       "28  1100-1200,1100-1200,1100-1200,1100-1200,1100-1...  \n",
       "29  1130-2200,1130-2200,1130-2200,1130-2200,1130-2...  \n",
       "30  1130-2200,1130-2200,1130-2200,1130-2200,1130-2...  \n",
       "31  1100-2300,1100-2300,1100-2300,1100-2300,1100-2...  \n",
       "32  1100-2300,1100-2300,1100-2300,1100-2300,1100-2...  "
      ]
     },
     "execution_count": 124,
     "metadata": {},
     "output_type": "execute_result"
    }
   ],
   "source": [
    "df"
   ]
  },
  {
   "cell_type": "code",
   "execution_count": 170,
   "id": "70d528ee",
   "metadata": {},
   "outputs": [
    {
     "data": {
      "application/vnd.jupyter.widget-view+json": {
       "model_id": "eb36c3f1954b41f79b0ed122099e691f",
       "version_major": 2,
       "version_minor": 0
      },
      "text/plain": [
       "Checkbox(value=False, description=\"Show me what's open now\", indent=False)"
      ]
     },
     "metadata": {},
     "output_type": "display_data"
    },
    {
     "data": {
      "application/vnd.jupyter.widget-view+json": {
       "model_id": "98c6e22cb9a446348f183b5d8537ed2f",
       "version_major": 2,
       "version_minor": 0
      },
      "text/plain": [
       "SelectMultiple(description='Day of Week', options=('Mon', 'Tue', 'Wed', 'Thu', 'Fri', 'Sat', 'Sun'), value=())"
      ]
     },
     "metadata": {},
     "output_type": "display_data"
    },
    {
     "data": {
      "application/vnd.jupyter.widget-view+json": {
       "model_id": "d2c9ff5065df4d26989d38651375a6d4",
       "version_major": 2,
       "version_minor": 0
      },
      "text/plain": [
       "TimePicker(value=None, step=60.0)"
      ]
     },
     "metadata": {},
     "output_type": "display_data"
    },
    {
     "data": {
      "application/vnd.jupyter.widget-view+json": {
       "model_id": "9aac4a23df804726b99c566be810f350",
       "version_major": 2,
       "version_minor": 0
      },
      "text/plain": [
       "TimePicker(value=None, step=60.0)"
      ]
     },
     "metadata": {},
     "output_type": "display_data"
    }
   ],
   "source": [
    "import ipywidgets as widgets\n",
    "import ipydatetime\n",
    "\n",
    "\n",
    "day_selector = widgets.SelectMultiple(\n",
    "    options=['Mon', 'Tue', 'Wed', 'Thu', 'Fri', 'Sat', 'Sun'],\n",
    "    description='Day of Week',\n",
    "    disabled=False\n",
    ")\n",
    "start_time_picker = ipydatetime.TimePicker()\n",
    "end_time_picker = ipydatetime.TimePicker()\n",
    "is_open_now = widgets.Checkbox(\n",
    "    value=False,\n",
    "    description=\"Show me what's open now\",\n",
    "    disabled=False,\n",
    "    indent=False\n",
    ")\n",
    "\n",
    "is_open_now\n",
    "day_selector\n",
    "start_time_picker\n",
    "end_time_picker"
   ]
  },
  {
   "cell_type": "code",
   "execution_count": 159,
   "id": "c49cf73f",
   "metadata": {},
   "outputs": [],
   "source": [
    "filtered_day = [dow_map.index(x.lower()) for x in list(day_selector.value)]\n",
    "filtered_start_time = start_time_picker.value.strftime(\"%H%M\") if start_time_picker.value else \"\"\n",
    "filtered_end_time = end_time_picker.value.strftime(\"%H%M\") if end_time_picker.value else \"\""
   ]
  },
  {
   "cell_type": "code",
   "execution_count": 185,
   "id": "183565eb",
   "metadata": {},
   "outputs": [
    {
     "data": {
      "text/plain": [
       "[2]"
      ]
     },
     "execution_count": 185,
     "metadata": {},
     "output_type": "execute_result"
    },
    {
     "data": {
      "text/plain": [
       "'1230'"
      ]
     },
     "execution_count": 185,
     "metadata": {},
     "output_type": "execute_result"
    },
    {
     "data": {
      "text/plain": [
       "''"
      ]
     },
     "execution_count": 185,
     "metadata": {},
     "output_type": "execute_result"
    },
    {
     "data": {
      "text/plain": [
       "True"
      ]
     },
     "execution_count": 185,
     "metadata": {},
     "output_type": "execute_result"
    }
   ],
   "source": [
    "filtered_day\n",
    "filtered_start_time\n",
    "filtered_end_time\n",
    "is_open_now.value"
   ]
  },
  {
   "cell_type": "code",
   "execution_count": 246,
   "id": "9a714761",
   "metadata": {},
   "outputs": [],
   "source": [
    "def filter_row(row, is_open_now, filtered_day, start_time, end_time):\n",
    "    today = datetime.datetime.today()\n",
    "    current_dow = today.weekday()\n",
    "    current_time = today.strftime('%H%M')\n",
    "    timing = row['parsed_timing']\n",
    "    matched_day = True\n",
    "    matched_time = True\n",
    "    if (is_open_now):\n",
    "        filtered_day = [current_dow]\n",
    "        start_time = current_time\n",
    "    if len(filtered_day) > 0:\n",
    "        open_dining = [timing.split(',')[x] for x in filtered_day]\n",
    "        matched_day = '' not in open_dining\n",
    "        print('Matched Day', matched_day, filtered_day)\n",
    "        if (matched_day):\n",
    "            start_can = True\n",
    "            end_can = True\n",
    "            for i in filtered_day:\n",
    "                opening_time = timing.split(',')[i]\n",
    "                start = opening_time.split('-')[0]\n",
    "                end = opening_time.split('-')[1] if len(opening_time.split('-')) > 1 else ''\n",
    "                print(parse_time(row['opening_time']), row['opening_time'], timing, opening_time, start, start_time)\n",
    "                if (start_time != '' and start != '' and start_time < start):\n",
    "                    start_can =  False\n",
    "                if (end_time != '' and end != '' and end_time > end):\n",
    "                    end_can = False\n",
    "            matched_time = start_can and end_can\n",
    "        else:\n",
    "            return False\n",
    "    print(matched_day, matched_time)\n",
    "    return matched_day and matched_time\n",
    "        \n",
    "    "
   ]
  },
  {
   "cell_type": "code",
   "execution_count": 247,
   "id": "fdcbe375",
   "metadata": {},
   "outputs": [
    {
     "name": "stdout",
     "output_type": "stream",
     "text": [
      "Matched Day True [0]\n",
      "['11:30 am - 9 pm', '11:30 am - 9 pm', '11:30 am - 9 pm', '11:30 am - 9 pm', '11:30 am - 9:30 pm', '11:30 am - 9:30 pm', '11:30 am - 9 pm'] Mon-Thu, Sun 11:30 am - 9 pm  / Fri-Sat 11:30 am - 9:30 pm 1130-2100,1130-2100,1130-2100,1130-2100,1130-2130,1130-2130,1130-2100 1130-2100 1130 0000\n",
      "True False\n",
      "Matched Day True [0]\n",
      "['11:30 am - 10 pm', '11:30 am - 10 pm', '11:30 am - 10 pm', '11:30 am - 10 pm', '11:30 am - 11 pm', '11:30 am - 11 pm', '11:30 am - 10 pm'] Mon-Thu, Sun 11:30 am - 10 pm  / Fri-Sat 11:30 am - 11 pm 1130-2200,1130-2200,1130-2200,1130-2200,1130-2300,1130-2300,1130-2200 1130-2200 1130 0000\n",
      "True False\n",
      "Matched Day True [0]\n",
      "['11:30 am - 10 pm', '11:30 am - 10 pm', '11:30 am - 10 pm', '11:30 am - 10 pm', '11:30 am - 11 pm', '11:30 am - 11 pm', '11:30 am - 10 pm'] Mon-Thu, Sun 11:30 am - 10 pm  / Fri-Sat 11:30 am - 11 pm 1130-2200,1130-2200,1130-2200,1130-2200,1130-2300,1130-2300,1130-2200 1130-2200 1130 0000\n",
      "True False\n",
      "Matched Day True [0]\n",
      "['11 am - 10 pm', '11 am - 10 pm', '11 am - 10 pm', '11 am - 10 pm', '11 am - 10 pm', '11 am - 10 pm', '11 am - 10 pm'] Mon-Sun 11 am - 10 pm 1100-2200,1100-2200,1100-2200,1100-2200,1100-2200,1100-2200,1100-2200 1100-2200 1100 0000\n",
      "True False\n",
      "Matched Day True [0]\n",
      "['11 am - 11 pm', '11 am - 11 pm', '11 am - 11 pm', '11 am - 11 pm', '11 am - 12:30 am', '11 am - 12:30 am', '10 am - 11 pm'] Mon-Thu 11 am - 11 pm  / Fri-Sat 11 am - 12:30 am  / Sun 10 am - 11 pm 1100-2300,1100-2300,1100-2300,1100-2300,1100-1230,1100-1230,1000-2300 1100-2300 1100 0000\n",
      "True False\n",
      "Matched Day True [0]\n",
      "['11:30 am - 10 pm', '11:30 am - 10 pm', '11:30 am - 10 pm', '11:30 am - 10 pm', '11:30 am - 10 pm', '11:30 am - 10 pm', '5:30 pm - 10 pm'] Mon-Sat 11:30 am - 10 pm  / Sun 5:30 pm - 10 pm 1130-2200,1130-2200,1130-2200,1130-2200,1130-2200,1130-2200,1730-2200 1130-2200 1130 0000\n",
      "True False\n",
      "Matched Day True [0]\n",
      "['11:30 am - 9:30 pm', '11:30 am - 9:30 pm', '11:30 am - 9:30 pm', '11:30 am - 9:30 pm', '11:30 am - 10 pm', '11:30 am - 10 pm', '11:30 am - 9:30 pm'] Mon-Thu, Sun 11:30 am - 9:30 pm  / Fri-Sat 11:30 am - 10 pm 1130-2130,1130-2130,1130-2130,1130-2130,1130-2200,1130-2200,1130-2130 1130-2130 1130 0000\n",
      "True False\n",
      "Matched Day True [0]\n",
      "['11:30 am - 10 pm', '11:30 am - 10 pm', '11:30 am - 10 pm', '11:30 am - 10 pm', '11:30 am - 11 pm', '11:30 am - 11 pm', '11:30 am - 11 pm'] Mon-Thu 11:30 am - 10 pm  / Fri-Sun 11:30 am - 11 pm 1130-2200,1130-2200,1130-2200,1130-2200,1130-2300,1130-2300,1130-2300 1130-2200 1130 0000\n",
      "True False\n",
      "Matched Day True [0]\n",
      "['11 am - 11 pm', '11 am - 11 pm', '11 am - 11 pm', '11 am - 11 pm', '11 am - 11 pm', '11 am - 11 pm', '11 am - 11 pm'] Mon-Sun 11 am - 11 pm 1100-2300,1100-2300,1100-2300,1100-2300,1100-2300,1100-2300,1100-2300 1100-2300 1100 0000\n",
      "True False\n",
      "Matched Day True [0]\n",
      "['10:30 am - 9:30 pm', '10:30 am - 9:30 pm', '10:30 am - 9:30 pm', '10:30 am - 9:30 pm', '10:30 am - 9:30 pm', '10 am - 9:30 pm', '10 am - 9:30 pm'] Mon-Fri 10:30 am - 9:30 pm  / Sat-Sun 10 am - 9:30 pm 1030-2130,1030-2130,1030-2130,1030-2130,1030-2130,1000-2130,1000-2130 1030-2130 1030 0000\n",
      "True False\n",
      "Matched Day True [0]\n",
      "['10 am - 9:30 pm', '10 am - 9:30 pm', '10 am - 9:30 pm', '10 am - 9:30 pm', '10 am - 9:30 pm', '9:30 am - 9:30 pm', '9:30 am - 9:30 pm'] Mon-Fri 10 am - 9:30 pm  / Sat-Sun 9:30 am - 9:30 pm 1000-2130,1000-2130,1000-2130,1000-2130,1000-2130,0930-2130,0930-2130 1000-2130 1000 0000\n",
      "True False\n",
      "Matched Day True [0]\n",
      "['11:30 am - 10:30 pm', '11:30 am - 10:30 pm', '11:30 am - 10:30 pm', '11:30 am - 10:30 pm', '11:30 am - 10:30 pm', '11:30 am - 10:30 pm', '11:30 am - 10:30 pm'] Mon-Sun 11:30 am - 10:30 pm 1130-2230,1130-2230,1130-2230,1130-2230,1130-2230,1130-2230,1130-2230 1130-2230 1130 0000\n",
      "True False\n",
      "Matched Day True [0]\n",
      "['11 am - 9 pm', '11 am - 9 pm', '11 am - 9 pm', '11 am - 9 pm', '11 am - 9 pm', '5 pm - 9 pm', ''] Mon-Fri 11 am - 9 pm  / Sat 5 pm - 9 pm 1100-2100,1100-2100,1100-2100,1100-2100,1100-2100,1700-2100, 1100-2100 1100 0000\n",
      "True False\n",
      "Matched Day True [0]\n",
      "['11 am - 10 pm', '11 am - 10 pm', '11 am - 10 pm', '11 am - 10 pm', '11 am - 11 pm', '11 am - 11 pm', '11 am - 10 pm'] Mon-Thu, Sun 11 am - 10 pm  / Fri-Sat 11 am - 11 pm 1100-2200,1100-2200,1100-2200,1100-2200,1100-2300,1100-2300,1100-2200 1100-2200 1100 0000\n",
      "True False\n",
      "Matched Day True [0]\n",
      "['11:30 am - 9 pm', '11:30 am - 9 pm', '11:30 am - 9 pm', '11:30 am - 9 pm', '11:30 am - 10 pm', '11:30 am - 10 pm', '11:30 am - 9 pm'] Mon-Thu, Sun 11:30 am - 9 pm  / Fri-Sat 11:30 am - 10 pm 1130-2100,1130-2100,1130-2100,1130-2100,1130-2200,1130-2200,1130-2100 1130-2100 1130 0000\n",
      "True False\n",
      "Matched Day True [0]\n",
      "['5 pm - 12:30 am', '5 pm - 12:30 am', '5 pm - 12:30 am', '5 pm - 1:30 am', '5 pm - 1:30 am', '3 pm - 1:30 am', '3 pm - 11:30 pm'] Mon-Wed 5 pm - 12:30 am  / Thu-Fri 5 pm - 1:30 am  / Sat 3 pm - 1:30 am  / Sun 3 pm - 11:30 pm 1700-1230,1700-1230,1700-1230,1700-0130,1700-0130,1500-0130,1500-2330 1700-1230 1700 0000\n",
      "True False\n",
      "Matched Day True [0]\n",
      "['11 am - 12 am', '11 am - 12 am', '11 am - 12 am', '11 am - 12 am', '11 am - 12 am', '11 am - 12 am', '11 am - 12 am'] Mon-Sun 11 am - 12 am 1100-1200,1100-1200,1100-1200,1100-1200,1100-1200,1100-1200,1100-1200 1100-1200 1100 0000\n",
      "True False\n",
      "Matched Day True [0]\n",
      "['9 am - 10 pm', '9 am - 10 pm', '9 am - 10 pm', '9 am - 10 pm', '9 am - 11 pm', '9 am - 11 pm', '9 am - 10 pm'] Mon-Thu, Sun 9 am - 10 pm  / Fri-Sat 9 am - 11 pm 0900-2200,0900-2200,0900-2200,0900-2200,0900-2300,0900-2300,0900-2200 0900-2200 0900 0000\n",
      "True False\n",
      "Matched Day True [0]\n",
      "['11 am - 10 pm', '11 am - 10 pm', '11 am - 10 pm', '11 am - 10 pm', '10 am - 10:30 pm', '10 am - 10:30 pm', '11 am - 11 pm'] Mon-Thu 11 am - 10 pm  / Fri-Sat 10 am - 10:30 pm  / Sun 11 am - 11 pm 1100-2200,1100-2200,1100-2200,1100-2200,1000-2230,1000-2230,1100-2300 1100-2200 1100 0000\n",
      "True False\n",
      "Matched Day True [0]\n",
      "['11 am - 10 pm', '11 am - 10 pm', '11 am - 10 pm', '11 am - 10 pm', '11 am - 10 pm', '11 am - 10 pm', '12 pm - 10 pm'] Mon-Sat 11 am - 10 pm  / Sun 12 pm - 10 pm 1100-2200,1100-2200,1100-2200,1100-2200,1100-2200,1100-2200,2400-2200 1100-2200 1100 0000\n",
      "True False\n",
      "Matched Day True [0]\n",
      "['11 am - 10 pm', '11 am - 10 pm', '11 am - 10 pm', '11 am - 10 pm', '11 am - 10 pm', '11 am - 10 pm', '11 am - 10 pm'] Mon-Sun 11 am - 10 pm 1100-2200,1100-2200,1100-2200,1100-2200,1100-2200,1100-2200,1100-2200 1100-2200 1100 0000\n",
      "True False\n",
      "Matched Day True [0]\n",
      "['11 am - 12 am', '11 am - 12 am', '11 am - 12 am', '11 am - 12 am', '11 am - 12 am', '11 am - 12 am', '12 pm - 12 am'] Mon-Sat 11 am - 12 am  / Sun 12 pm - 12 am 1100-1200,1100-1200,1100-1200,1100-1200,1100-1200,1100-1200,2400-1200 1100-1200 1100 0000\n",
      "True False\n",
      "Matched Day True [0]\n",
      "['11 am - 10 pm', '11 am - 10 pm', '11 am - 10 pm', '11 am - 10 pm', '11 am - 12 am', '11 am - 12 am', '11 am - 10 pm'] Mon-Thu, Sun 11 am - 10 pm  / Fri-Sat 11 am - 12 am 1100-2200,1100-2200,1100-2200,1100-2200,1100-1200,1100-1200,1100-2200 1100-2200 1100 0000\n",
      "True False\n",
      "Matched Day True [0]\n",
      "['11:30 am - 10 pm', '11:30 am - 10 pm', '11:30 am - 10 pm', '11:30 am - 10 pm', '11:30 am - 10 pm', '7 am - 3 pm', '7 am - 3 pm'] Mon-Fri 11:30 am - 10 pm  / Sat-Sun 7 am - 3 pm 1130-2200,1130-2200,1130-2200,1130-2200,1130-2200,0700-1500,0700-1500 1130-2200 1130 0000\n",
      "True False\n",
      "Matched Day True [0]\n",
      "['11 am - 4 am', '11 am - 4 am', '11 am - 4 am', '11 am - 4 am', '11 am - 4 am', '11 am - 4 am', '11 am - 4 am'] Mon-Sun 11 am - 4 am 1100-0400,1100-0400,1100-0400,1100-0400,1100-0400,1100-0400,1100-0400 1100-0400 1100 0000\n",
      "True False\n",
      "Matched Day True [0]\n",
      "['11 am - 9:30 pm', '11 am - 9:30 pm', '11 am - 9:30 pm', '11 am - 9:30 pm', '11 am - 9:30 pm', '11 am - 9:30 pm', '11 am - 9:30 pm'] Mon-Sun 11 am - 9:30 pm 1100-2130,1100-2130,1100-2130,1100-2130,1100-2130,1100-2130,1100-2130 1100-2130 1100 0000\n",
      "True False\n",
      "Matched Day True [0]\n",
      "['11:30 am - 10 pm', '11:30 am - 10 pm', '11:30 am - 10 pm', '11:30 am - 10 pm', '11:30 am - 11 pm', '11:30 am - 11 pm', '11:30 am - 10 pm'] Mon-Thu, Sun 11:30 am - 10 pm  / Fri-Sat 11:30 am - 11 pm 1130-2200,1130-2200,1130-2200,1130-2200,1130-2300,1130-2300,1130-2200 1130-2200 1130 0000\n",
      "True False\n",
      "Matched Day True [0]\n",
      "['11:30 am - 9:30 pm', '11:30 am - 9:30 pm', '11:30 am - 9:30 pm', '11:30 am - 9:30 pm', '11:30 am - 9:30 pm', '11:30 am - 9:30 pm', '11:30 am - 9:30 pm'] Mon-Sun 11:30 am - 9:30 pm 1130-2130,1130-2130,1130-2130,1130-2130,1130-2130,1130-2130,1130-2130 1130-2130 1130 0000\n",
      "True False\n",
      "Matched Day True [0]\n",
      "['11 am - 12 am', '11 am - 12 am', '11 am - 12 am', '11 am - 12 am', '11 am - 12 am', '11 am - 12 am', '11 am - 12 am'] Mon-Sun 11 am - 12 am 1100-1200,1100-1200,1100-1200,1100-1200,1100-1200,1100-1200,1100-1200 1100-1200 1100 0000\n",
      "True False\n",
      "Matched Day True [0]\n",
      "['11:30 am - 10 pm', '11:30 am - 10 pm', '11:30 am - 10 pm', '11:30 am - 10 pm', '11:30 am - 10 pm', '11:30 am - 10 pm', '11:30 am - 10 pm'] Mon-Sun 11:30 am - 10 pm 1130-2200,1130-2200,1130-2200,1130-2200,1130-2200,1130-2200,1130-2200 1130-2200 1130 0000\n",
      "True False\n",
      "Matched Day True [0]\n",
      "['11:30 am - 10 pm', '11:30 am - 10 pm', '11:30 am - 10 pm', '11:30 am - 10 pm', '11:30 am - 10 pm', '11:30 am - 10 pm', '11:30 am - 10 pm'] Mon-Sun 11:30 am - 10 pm 1130-2200,1130-2200,1130-2200,1130-2200,1130-2200,1130-2200,1130-2200 1130-2200 1130 0000\n",
      "True False\n",
      "Matched Day True [0]\n",
      "['11 am - 11 pm', '11 am - 11 pm', '11 am - 11 pm', '11 am - 11 pm', '11 am - 11 pm', '11 am - 11 pm', '11 am - 10 pm'] Mon-Sat 11 am - 11 pm  / Sun 11 am - 10 pm 1100-2300,1100-2300,1100-2300,1100-2300,1100-2300,1100-2300,1100-2200 1100-2300 1100 0000\n",
      "True False\n",
      "Matched Day True [0]\n",
      "['11 am - 11 pm', '11 am - 11 pm', '11 am - 11 pm', '11 am - 11 pm', '11 am - 11 pm', '11 am - 11 pm', '11 am - 11 pm'] Mon-Sun 11 am - 11 pm 1100-2300,1100-2300,1100-2300,1100-2300,1100-2300,1100-2300,1100-2300 1100-2300 1100 0000\n",
      "True False\n"
     ]
    },
    {
     "data": {
      "text/html": [
       "<div>\n",
       "<style scoped>\n",
       "    .dataframe tbody tr th:only-of-type {\n",
       "        vertical-align: middle;\n",
       "    }\n",
       "\n",
       "    .dataframe tbody tr th {\n",
       "        vertical-align: top;\n",
       "    }\n",
       "\n",
       "    .dataframe thead th {\n",
       "        text-align: right;\n",
       "    }\n",
       "</style>\n",
       "<table border=\"1\" class=\"dataframe\">\n",
       "  <thead>\n",
       "    <tr style=\"text-align: right;\">\n",
       "      <th></th>\n",
       "      <th>dining_place_name</th>\n",
       "      <th>opening_time</th>\n",
       "      <th>parsed_timing</th>\n",
       "    </tr>\n",
       "  </thead>\n",
       "  <tbody>\n",
       "  </tbody>\n",
       "</table>\n",
       "</div>"
      ],
      "text/plain": [
       "Empty DataFrame\n",
       "Columns: [dining_place_name, opening_time, parsed_timing]\n",
       "Index: []"
      ]
     },
     "execution_count": 247,
     "metadata": {},
     "output_type": "execute_result"
    }
   ],
   "source": [
    "filtered_rows = df.apply(lambda x: filter_row(x, is_open_now.value, filtered_day, filtered_start_time, filtered_end_time), axis=1)\n",
    "df[filtered_rows]"
   ]
  },
  {
   "cell_type": "code",
   "execution_count": null,
   "id": "184bd9c1",
   "metadata": {},
   "outputs": [],
   "source": []
  }
 ],
 "metadata": {
  "kernelspec": {
   "display_name": "Python 3 (ipykernel)",
   "language": "python",
   "name": "python3"
  },
  "language_info": {
   "codemirror_mode": {
    "name": "ipython",
    "version": 3
   },
   "file_extension": ".py",
   "mimetype": "text/x-python",
   "name": "python",
   "nbconvert_exporter": "python",
   "pygments_lexer": "ipython3",
   "version": "3.9.12"
  }
 },
 "nbformat": 4,
 "nbformat_minor": 5
}
